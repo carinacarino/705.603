{
 "cells": [
  {
   "cell_type": "code",
   "execution_count": 3,
   "id": "initial_id",
   "metadata": {
    "ExecuteTime": {
     "end_time": "2024-03-05T23:38:17.994827600Z",
     "start_time": "2024-03-05T23:38:17.990149Z"
    },
    "collapsed": true
   },
   "outputs": [],
   "source": [
    "import os\n",
    "import xml.etree.ElementTree as ET\n",
    "import json\n",
    "\n",
    "def convert_pascal_to_yolo_format(filename, width, height):\n",
    "    tree = ET.parse(filename)\n",
    "    root = tree.getroot()\n",
    "    yolo_format = []\n",
    "    \n",
    "    for obj in root.iter('object'):\n",
    "        bbox = obj.find('bndbox')\n",
    "        xmin = int(bbox.find('xmin').text)\n",
    "        ymin = int(bbox.find('ymin').text)\n",
    "        xmax = int(bbox.find('xmax').text)\n",
    "        ymax = int(bbox.find('ymax').text)\n",
    "        \n",
    "        x_center = ((xmin + xmax) / 2) / width\n",
    "        y_center = ((ymin + ymax) / 2) / height\n",
    "        bbox_width = (xmax - xmin) / width\n",
    "        bbox_height = (ymax - ymin) / height\n",
    "        \n",
    "        yolo_format.append(f\"{x_center} {y_center} {bbox_width} {bbox_height}\")\n",
    "    return yolo_format\n",
    "\n",
    "def convert_pascal_to_coco_format(filename):\n",
    "    tree = ET.parse(filename)\n",
    "    root = tree.getroot()\n",
    "    coco_format = []\n",
    "    \n",
    "    for obj in root.iter('object'):\n",
    "        bbox = obj.find('bndbox')\n",
    "        xmin = int(bbox.find('xmin').text)\n",
    "        ymin = int(bbox.find('ymin').text)\n",
    "        xmax = int(bbox.find('xmax').text)\n",
    "        ymax = int(bbox.find('ymax').text)\n",
    "        \n",
    "        width = xmax - xmin\n",
    "        height = ymax - ymin\n",
    "        \n",
    "        coco_format.append({\n",
    "            \"x_min\": xmin,\n",
    "            \"y_min\": ymin,\n",
    "            \"width\": width,\n",
    "            \"height\": height\n",
    "        })\n",
    "    return coco_format\n",
    "\n",
    "def process_directory(directory_path):\n",
    "    coco_annotations = []\n",
    "    for filename in os.listdir(directory_path):\n",
    "        if filename.endswith('.xml'):\n",
    "            full_path = os.path.join(directory_path, filename)\n",
    "            tree = ET.parse(full_path)\n",
    "            root = tree.getroot()\n",
    "            size = root.find('size')\n",
    "            width = int(size.find('width').text)\n",
    "            height = int(size.find('height').text)\n",
    "            \n",
    "            # YOLO format conversion and save\n",
    "            yolo_formatted = convert_pascal_to_yolo_format(full_path, width, height)\n",
    "            yolo_filename = filename.replace('.xml', '.txt')\n",
    "            with open(os.path.join(directory_path, yolo_filename), 'w') as file:\n",
    "                for line in yolo_formatted:\n",
    "                    file.write(line + \"\\n\")\n",
    "            \n",
    "            # COCO format conversion\n",
    "            coco_formatted = convert_pascal_to_coco_format(full_path)\n",
    "            coco_annotations.extend(coco_formatted)\n",
    "    \n",
    "    # Save COCO formatted annotations into a single JSON file\n",
    "    with open(os.path.join(directory_path, 'coco_annotations.json'), 'w') as file:\n",
    "        json.dump(coco_annotations, file, indent=4)\n",
    "\n",
    "# Example usage\n",
    "# process_directory('/path/to/your/directory')\n"
   ]
  },
  {
   "cell_type": "code",
   "execution_count": 13,
   "id": "7908b4b8f2dc49e7",
   "metadata": {
    "ExecuteTime": {
     "end_time": "2024-03-05T23:42:44.081288800Z",
     "start_time": "2024-03-05T23:42:42.475039100Z"
    },
    "collapsed": false
   },
   "outputs": [],
   "source": [
    "process_directory('/rapids/notebooks/workspace/705.603SP24/license_plate_recognition/license_plate_dataset')\n"
   ]
  },
  {
   "cell_type": "code",
   "execution_count": 1,
   "id": "b86ffa7426903d65",
   "metadata": {
    "ExecuteTime": {
     "end_time": "2024-03-05T23:38:02.215626500Z",
     "start_time": "2024-03-05T23:37:58.209995300Z"
    },
    "collapsed": false
   },
   "outputs": [
    {
     "name": "stdout",
     "output_type": "stream",
     "text": [
      "Collecting matplotlib\r\n",
      "  Downloading matplotlib-3.8.3-cp310-cp310-manylinux_2_17_x86_64.manylinux2014_x86_64.whl (11.6 MB)\r\n",
      "\u001b[2K     \u001b[90m━━━━━━━━━━━━━━━━━━━━━━━━━━━━━━━━━━━━━━━━\u001b[0m \u001b[32m11.6/11.6 MB\u001b[0m \u001b[31m39.3 MB/s\u001b[0m eta \u001b[36m0:00:00\u001b[0m00:01\u001b[0m0:01\u001b[0m\r\n",
      "\u001b[?25hCollecting contourpy>=1.0.1 (from matplotlib)\r\n",
      "  Downloading contourpy-1.2.0-cp310-cp310-manylinux_2_17_x86_64.manylinux2014_x86_64.whl (310 kB)\r\n",
      "\u001b[2K     \u001b[90m━━━━━━━━━━━━━━━━━━━━━━━━━━━━━━━━━━━━━━\u001b[0m \u001b[32m310.7/310.7 kB\u001b[0m \u001b[31m36.5 MB/s\u001b[0m eta \u001b[36m0:00:00\u001b[0m\r\n",
      "\u001b[?25hCollecting cycler>=0.10 (from matplotlib)\r\n",
      "  Downloading cycler-0.12.1-py3-none-any.whl (8.3 kB)\r\n",
      "Collecting fonttools>=4.22.0 (from matplotlib)\r\n",
      "  Downloading fonttools-4.49.0-cp310-cp310-manylinux_2_17_x86_64.manylinux2014_x86_64.whl (4.6 MB)\r\n",
      "\u001b[2K     \u001b[90m━━━━━━━━━━━━━━━━━━━━━━━━━━━━━━━━━━━━━━━━\u001b[0m \u001b[32m4.6/4.6 MB\u001b[0m \u001b[31m47.6 MB/s\u001b[0m eta \u001b[36m0:00:00\u001b[0ma \u001b[36m0:00:01\u001b[0m\r\n",
      "\u001b[?25hCollecting kiwisolver>=1.3.1 (from matplotlib)\r\n",
      "  Downloading kiwisolver-1.4.5-cp310-cp310-manylinux_2_12_x86_64.manylinux2010_x86_64.whl (1.6 MB)\r\n",
      "\u001b[2K     \u001b[90m━━━━━━━━━━━━━━━━━━━━━━━━━━━━━━━━━━━━━━━━\u001b[0m \u001b[32m1.6/1.6 MB\u001b[0m \u001b[31m40.7 MB/s\u001b[0m eta \u001b[36m0:00:00\u001b[0m00:01\u001b[0m\r\n",
      "\u001b[?25hRequirement already satisfied: numpy<2,>=1.21 in /usr/local/lib/python3.10/dist-packages (from matplotlib) (1.22.2)\r\n",
      "Requirement already satisfied: packaging>=20.0 in /usr/local/lib/python3.10/dist-packages (from matplotlib) (23.1)\r\n",
      "Requirement already satisfied: pillow>=8 in /usr/local/lib/python3.10/dist-packages (from matplotlib) (9.5.0)\r\n",
      "Requirement already satisfied: pyparsing>=2.3.1 in /usr/local/lib/python3.10/dist-packages (from matplotlib) (3.1.0)\r\n",
      "Requirement already satisfied: python-dateutil>=2.7 in /usr/local/lib/python3.10/dist-packages (from matplotlib) (2.8.2)\r\n",
      "Requirement already satisfied: six>=1.5 in /usr/local/lib/python3.10/dist-packages (from python-dateutil>=2.7->matplotlib) (1.16.0)\r\n",
      "Installing collected packages: kiwisolver, fonttools, cycler, contourpy, matplotlib\r\n",
      "Successfully installed contourpy-1.2.0 cycler-0.12.1 fonttools-4.49.0 kiwisolver-1.4.5 matplotlib-3.8.3\r\n",
      "\u001b[33mWARNING: Running pip as the 'root' user can result in broken permissions and conflicting behaviour with the system package manager. It is recommended to use a virtual environment instead: https://pip.pypa.io/warnings/venv\u001b[0m\u001b[33m\r\n",
      "\u001b[0m"
     ]
    }
   ],
   "source": [
    "!pip install matplotlib"
   ]
  },
  {
   "cell_type": "code",
   "execution_count": 9,
   "id": "45574f2aad683abe",
   "metadata": {
    "ExecuteTime": {
     "end_time": "2024-03-05T23:40:08.265028900Z",
     "start_time": "2024-03-05T23:40:08.254912100Z"
    },
    "collapsed": false
   },
   "outputs": [
    {
     "name": "stdout",
     "output_type": "stream",
     "text": [
      "/rapids/notebooks/workspace\n"
     ]
    }
   ],
   "source": [
    "import os\n",
    "print(os.getcwd())\n"
   ]
  },
  {
   "cell_type": "code",
   "execution_count": null,
   "id": "3724b2fc17ea1b2f",
   "metadata": {
    "collapsed": false
   },
   "outputs": [],
   "source": []
  }
 ],
 "metadata": {
  "kernelspec": {
   "display_name": "Python 3",
   "language": "python",
   "name": "python3"
  },
  "language_info": {
   "codemirror_mode": {
    "name": "ipython",
    "version": 2
   },
   "file_extension": ".py",
   "mimetype": "text/x-python",
   "name": "python",
   "nbconvert_exporter": "python",
   "pygments_lexer": "ipython2",
   "version": "2.7.6"
  }
 },
 "nbformat": 4,
 "nbformat_minor": 5
}
