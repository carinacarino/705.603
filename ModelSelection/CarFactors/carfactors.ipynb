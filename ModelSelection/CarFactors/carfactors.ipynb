{
 "cells": [
  {
   "cell_type": "markdown",
   "id": "fc6f1b9d",
   "metadata": {},
   "source": [
    "# Part 2: Car Factors \n",
    "\n",
    "You are to construct a predictive model that provides the duration till sold for a given model.  \n",
    "\n",
    "1. Populate the carsfactors.py following the hints in the comments\n",
    "1. Integrate with carfactors_service.py\n",
    "1. Test locally\n",
    "1. Build requirements.txt and Dockerfile\n",
    "1. Build a docker image\n",
    "1. Test Locally\n",
    "1. Push to docker hub\n",
    "1. Populate readme for both github and docker hub (with example docker commands)\n",
    "1. Populate this notebook with working output and a summary that contains an impression of the model and how to improve it.\n",
    "\n",
    "* ***Review the [codeSamplesforCategoricalData.ipynb](./codeSamplesforCategoricalData.ipynb) for code review of the categorical data manipulations***."
   ]
  },
  {
   "cell_type": "code",
   "execution_count": 1,
   "id": "6961c22d",
   "metadata": {},
   "outputs": [],
   "source": [
    "import warnings\n",
    "warnings.filterwarnings('ignore')\n",
    "from carsfactors import carsfactors\n",
    "cf = carsfactors()\n",
    "\n",
    "cf.model_learn() "
   ]
  },
  {
   "cell_type": "markdown",
   "id": "d44f56b1",
   "metadata": {},
   "source": [
    "### Test Model first - Get stats"
   ]
  },
  {
   "cell_type": "code",
   "execution_count": 2,
   "id": "244c8100",
   "metadata": {},
   "outputs": [
    {
     "data": {
      "text/plain": [
       "'0.00513650689526568'"
      ]
     },
     "execution_count": 2,
     "metadata": {},
     "output_type": "execute_result"
    }
   ],
   "source": [
    "cf.model_stats()"
   ]
  },
  {
   "cell_type": "markdown",
   "id": "d1207738",
   "metadata": {},
   "source": [
    "### Get Determination"
   ]
  },
  {
   "cell_type": "code",
   "execution_count": 3,
   "id": "56baa229",
   "metadata": {},
   "outputs": [
    {
     "name": "stdout",
     "output_type": "stream",
     "text": [
      "Predicted duration of listing:  277311.8801946134\n"
     ]
    }
   ],
   "source": [
    "transmission = \"automatic\"\n",
    "color = \"red\"\n",
    "odometer = 85000\n",
    "year = 2012\n",
    "bodytype = \"sedan\"\n",
    "price = 15000 \n",
    "\n",
    "# Making a prediction\n",
    "predicted_duration = cf.model_infer(transmission, color, odometer, year, bodytype, price)\n",
    "\n",
    "print('Predicted duration of listing: ', predicted_duration)"
   ]
  },
  {
   "cell_type": "markdown",
   "id": "e0f438ff",
   "metadata": {},
   "source": [
    "### Start up the service"
   ]
  },
  {
   "cell_type": "code",
   "execution_count": null,
   "id": "e67c12b8",
   "metadata": {},
   "outputs": [
    {
     "name": "stdout",
     "output_type": "stream",
     "text": [
      "starting server...\n",
      " * Serving Flask app 'carfactors_service'\n",
      " * Debug mode: off\n",
      "\u001b[31m\u001b[1mWARNING: This is a development server. Do not use it in a production deployment. Use a production WSGI server instead.\u001b[0m\n",
      " * Running on all addresses (0.0.0.0)\n",
      " * Running on http://127.0.0.1:8786\n",
      " * Running on http://172.17.0.2:8786\n",
      "\u001b[33mPress CTRL+C to quit\u001b[0m\n"
     ]
    }
   ],
   "source": [
    "#!pip install flask\n",
    "!python carfactors_service.py"
   ]
  },
  {
   "cell_type": "markdown",
   "id": "185faf0a",
   "metadata": {},
   "source": [
    "Try out the links \n",
    "* [stats](http://fillin)\n",
    "* [determination](http://fillin)"
   ]
  },
  {
   "cell_type": "markdown",
   "id": "99ca2f74",
   "metadata": {},
   "source": [
    "### You must kill the kernel to try again for the port stays locked to the current kernel"
   ]
  },
  {
   "cell_type": "markdown",
   "id": "3d0564b9",
   "metadata": {},
   "source": [
    "# Summary\n",
    "* Assignment and Model Results\n",
    "* Techniques to improve the results"
   ]
  },
  {
   "cell_type": "markdown",
   "id": "18fbe08d",
   "metadata": {},
   "source": [
    "The R^2 score from cf.model_stats() is quite low, indicating that the model's performance on the test set is poor. Moreover, the predicted duration from model_infer() seems significantly high at 277311 days for a car with the parameters above. We can improve our model by adding more features and applying regularization techniques such as ridge regression or lasso regression."
   ]
  },
  {
   "cell_type": "markdown",
   "id": "a3f20d4e",
   "metadata": {},
   "source": []
  }
 ],
 "metadata": {
  "kernelspec": {
   "display_name": "Python 3 (ipykernel)",
   "language": "python",
   "name": "python3"
  },
  "language_info": {
   "codemirror_mode": {
    "name": "ipython",
    "version": 3
   },
   "file_extension": ".py",
   "mimetype": "text/x-python",
   "name": "python",
   "nbconvert_exporter": "python",
   "pygments_lexer": "ipython3",
   "version": "3.10.6"
  }
 },
 "nbformat": 4,
 "nbformat_minor": 5
}
