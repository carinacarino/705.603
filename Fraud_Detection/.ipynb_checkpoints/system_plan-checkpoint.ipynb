{
 "cells": [
  {
   "cell_type": "code",
   "execution_count": 2,
   "outputs": [
    {
     "name": "stdout",
     "output_type": "stream",
     "text": [
      "Requirement already satisfied: pandas in c:\\users\\carin\\pycharmprojects\\fraud_detection\\venv\\lib\\site-packages (2.2.0)\n",
      "Requirement already satisfied: numpy<2,>=1.22.4 in c:\\users\\carin\\pycharmprojects\\fraud_detection\\venv\\lib\\site-packages (from pandas) (1.26.4)\n",
      "Requirement already satisfied: python-dateutil>=2.8.2 in c:\\users\\carin\\pycharmprojects\\fraud_detection\\venv\\lib\\site-packages (from pandas) (2.8.2)\n",
      "Requirement already satisfied: pytz>=2020.1 in c:\\users\\carin\\pycharmprojects\\fraud_detection\\venv\\lib\\site-packages (from pandas) (2024.1)\n",
      "Requirement already satisfied: tzdata>=2022.7 in c:\\users\\carin\\pycharmprojects\\fraud_detection\\venv\\lib\\site-packages (from pandas) (2024.1)\n",
      "Requirement already satisfied: six>=1.5 in c:\\users\\carin\\pycharmprojects\\fraud_detection\\venv\\lib\\site-packages (from python-dateutil>=2.8.2->pandas) (1.16.0)\n"
     ]
    },
    {
     "name": "stderr",
     "output_type": "stream",
     "text": [
      "\n",
      "[notice] A new release of pip is available: 23.2.1 -> 24.0\n",
      "[notice] To update, run: python.exe -m pip install --upgrade pip\n"
     ]
    },
    {
     "name": "stdout",
     "output_type": "stream",
     "text": [
      "Requirement already satisfied: numpy in c:\\users\\carin\\pycharmprojects\\fraud_detection\\venv\\lib\\site-packages (1.26.4)\n"
     ]
    },
    {
     "name": "stderr",
     "output_type": "stream",
     "text": [
      "\n",
      "[notice] A new release of pip is available: 23.2.1 -> 24.0\n",
      "[notice] To update, run: python.exe -m pip install --upgrade pip\n"
     ]
    },
    {
     "name": "stdout",
     "output_type": "stream",
     "text": [
      "Requirement already satisfied: scikit-learn in c:\\users\\carin\\pycharmprojects\\fraud_detection\\venv\\lib\\site-packages (1.4.1.post1)\n",
      "Requirement already satisfied: numpy<2.0,>=1.19.5 in c:\\users\\carin\\pycharmprojects\\fraud_detection\\venv\\lib\\site-packages (from scikit-learn) (1.26.4)\n",
      "Requirement already satisfied: scipy>=1.6.0 in c:\\users\\carin\\pycharmprojects\\fraud_detection\\venv\\lib\\site-packages (from scikit-learn) (1.12.0)\n",
      "Requirement already satisfied: joblib>=1.2.0 in c:\\users\\carin\\pycharmprojects\\fraud_detection\\venv\\lib\\site-packages (from scikit-learn) (1.3.2)\n",
      "Requirement already satisfied: threadpoolctl>=2.0.0 in c:\\users\\carin\\pycharmprojects\\fraud_detection\\venv\\lib\\site-packages (from scikit-learn) (3.3.0)\n"
     ]
    },
    {
     "name": "stderr",
     "output_type": "stream",
     "text": [
      "\n",
      "[notice] A new release of pip is available: 23.2.1 -> 24.0\n",
      "[notice] To update, run: python.exe -m pip install --upgrade pip\n"
     ]
    },
    {
     "name": "stdout",
     "output_type": "stream",
     "text": [
      "Requirement already satisfied: matplotlib in c:\\users\\carin\\pycharmprojects\\fraud_detection\\venv\\lib\\site-packages (3.8.3)\n",
      "Requirement already satisfied: contourpy>=1.0.1 in c:\\users\\carin\\pycharmprojects\\fraud_detection\\venv\\lib\\site-packages (from matplotlib) (1.2.0)\n",
      "Requirement already satisfied: cycler>=0.10 in c:\\users\\carin\\pycharmprojects\\fraud_detection\\venv\\lib\\site-packages (from matplotlib) (0.12.1)\n",
      "Requirement already satisfied: fonttools>=4.22.0 in c:\\users\\carin\\pycharmprojects\\fraud_detection\\venv\\lib\\site-packages (from matplotlib) (4.49.0)\n",
      "Requirement already satisfied: kiwisolver>=1.3.1 in c:\\users\\carin\\pycharmprojects\\fraud_detection\\venv\\lib\\site-packages (from matplotlib) (1.4.5)\n",
      "Requirement already satisfied: numpy<2,>=1.21 in c:\\users\\carin\\pycharmprojects\\fraud_detection\\venv\\lib\\site-packages (from matplotlib) (1.26.4)\n",
      "Requirement already satisfied: packaging>=20.0 in c:\\users\\carin\\pycharmprojects\\fraud_detection\\venv\\lib\\site-packages (from matplotlib) (23.2)\n",
      "Requirement already satisfied: pillow>=8 in c:\\users\\carin\\pycharmprojects\\fraud_detection\\venv\\lib\\site-packages (from matplotlib) (10.2.0)\n",
      "Requirement already satisfied: pyparsing>=2.3.1 in c:\\users\\carin\\pycharmprojects\\fraud_detection\\venv\\lib\\site-packages (from matplotlib) (3.1.1)\n",
      "Requirement already satisfied: python-dateutil>=2.7 in c:\\users\\carin\\pycharmprojects\\fraud_detection\\venv\\lib\\site-packages (from matplotlib) (2.8.2)\n",
      "Requirement already satisfied: importlib-resources>=3.2.0 in c:\\users\\carin\\pycharmprojects\\fraud_detection\\venv\\lib\\site-packages (from matplotlib) (6.1.1)\n",
      "Requirement already satisfied: zipp>=3.1.0 in c:\\users\\carin\\pycharmprojects\\fraud_detection\\venv\\lib\\site-packages (from importlib-resources>=3.2.0->matplotlib) (3.17.0)\n",
      "Requirement already satisfied: six>=1.5 in c:\\users\\carin\\pycharmprojects\\fraud_detection\\venv\\lib\\site-packages (from python-dateutil>=2.7->matplotlib) (1.16.0)\n"
     ]
    },
    {
     "name": "stderr",
     "output_type": "stream",
     "text": [
      "\n",
      "[notice] A new release of pip is available: 23.2.1 -> 24.0\n",
      "[notice] To update, run: python.exe -m pip install --upgrade pip\n"
     ]
    },
    {
     "name": "stdout",
     "output_type": "stream",
     "text": [
      "Requirement already satisfied: xgboost in c:\\users\\carin\\pycharmprojects\\fraud_detection\\venv\\lib\\site-packages (2.0.3)\n",
      "Requirement already satisfied: numpy in c:\\users\\carin\\pycharmprojects\\fraud_detection\\venv\\lib\\site-packages (from xgboost) (1.26.4)\n",
      "Requirement already satisfied: scipy in c:\\users\\carin\\pycharmprojects\\fraud_detection\\venv\\lib\\site-packages (from xgboost) (1.12.0)\n"
     ]
    },
    {
     "name": "stderr",
     "output_type": "stream",
     "text": [
      "\n",
      "[notice] A new release of pip is available: 23.2.1 -> 24.0\n",
      "[notice] To update, run: python.exe -m pip install --upgrade pip\n"
     ]
    }
   ],
   "source": [
    "!pip install pandas \n",
    "!pip install numpy \n",
    "!pip install scikit-learn \n",
    "!pip install matplotlib\n",
    "!pip install xgboost"
   ],
   "metadata": {
    "collapsed": false,
    "ExecuteTime": {
     "end_time": "2024-02-20T18:41:58.495738300Z",
     "start_time": "2024-02-20T18:41:53.114239300Z"
    }
   },
   "id": "b351febb20a3611a"
  },
  {
   "cell_type": "code",
   "execution_count": 3,
   "outputs": [
    {
     "name": "stderr",
     "output_type": "stream",
     "text": [
      "C:\\Users\\carin\\AppData\\Local\\Temp\\ipykernel_34316\\3429983263.py:1: DeprecationWarning: \n",
      "Pyarrow will become a required dependency of pandas in the next major release of pandas (pandas 3.0),\n",
      "(to allow more performant data types, such as the Arrow string type, and better interoperability with other libraries)\n",
      "but was not found to be installed on your system.\n",
      "If this would cause problems for you,\n",
      "please provide us feedback at https://github.com/pandas-dev/pandas/issues/54466\n",
      "        \n",
      "  import pandas as pd\n"
     ]
    }
   ],
   "source": [
    "import pandas as pd\n",
    "import numpy as np\n",
    "import sklearn\n",
    "import matplotlib.pyplot as plt\n",
    "from sklearn.preprocessing import StandardScaler\n",
    "from sklearn.preprocessing import MinMaxScaler\n",
    "from sklearn.preprocessing import LabelEncoder\n",
    "from sklearn.model_selection import train_test_split\n",
    "from sklearn.linear_model import LogisticRegression\n",
    "from sklearn.pipeline import make_pipeline\n",
    "from sklearn.metrics import classification_report, accuracy_score\n",
    "\n",
    "from xgboost import XGBClassifier\n",
    "\n",
    "\n",
    "import warnings\n",
    "warnings.filterwarnings('ignore')\n",
    "\n",
    "\n",
    "pd.set_option(\"display.precision\", 2)"
   ],
   "metadata": {
    "collapsed": false,
    "ExecuteTime": {
     "end_time": "2024-02-20T18:42:07.171234500Z",
     "start_time": "2024-02-20T18:42:03.611450200Z"
    }
   },
   "id": "initial_id"
  },
  {
   "cell_type": "code",
   "execution_count": 4,
   "outputs": [],
   "source": [
    "# data integration\n",
    "transactions = pd.read_csv('transactions.csv')\n",
    "\n",
    "data = transactions[['trans_date_trans_time', 'amt', 'city', 'state', 'dob', 'trans_num', 'category', 'is_fraud', 'unix_time']]\n",
    "\n",
    "#data = transactions[['trans_date_trans_time', 'amt', 'city', 'state', 'dob', 'trans_num', 'category', 'is_fraud', 'unix_time', 'merchant']]\n",
    "\n"
   ],
   "metadata": {
    "collapsed": false,
    "ExecuteTime": {
     "end_time": "2024-02-20T18:42:16.570603900Z",
     "start_time": "2024-02-20T18:42:12.825092300Z"
    }
   },
   "id": "ea47d479228c1f4e"
  },
  {
   "cell_type": "markdown",
   "source": [
    "# Age"
   ],
   "metadata": {
    "collapsed": false
   },
   "id": "e16944af85bb8b3d"
  },
  {
   "cell_type": "code",
   "execution_count": null,
   "outputs": [],
   "source": [
    "# Convert 'trans_date_trans_time' to pandas datetime object\n",
    "data['trans_date_trans_time'] = pd.to_datetime(data['trans_date_trans_time'])\n",
    "\n",
    "# Extract just the date part and convert it back to datetime object to avoid type inconsistency\n",
    "data['trans_date'] = data['trans_date_trans_time'].dt.date\n",
    "data['trans_date'] = pd.to_datetime(data['trans_date'])\n",
    "\n",
    "# Convert 'dob' to datetime object without triggering SettingWithCopyWarning\n",
    "data['dob'] = pd.to_datetime(data['dob'])\n",
    "\n",
    "# Calculate 'age_at_transaction' correctly using .loc to avoid warnings\n",
    "data['age_at_transaction'] = data['trans_date'].dt.year - data['dob'].dt.year\n",
    "\n",
    "\n"
   ],
   "metadata": {
    "collapsed": false,
    "is_executing": true
   },
   "id": "5056539b327b0f67"
  },
  {
   "cell_type": "markdown",
   "source": [
    "# Amount\n"
   ],
   "metadata": {
    "collapsed": false
   },
   "id": "d9c0f9ababee830e"
  },
  {
   "cell_type": "code",
   "execution_count": 6,
   "outputs": [
    {
     "data": {
      "text/plain": "        trans_date_trans_time     amt            city state        dob  \\\n0         2019-01-01 00:00:18    4.97  Moravian Falls    NC 1988-03-09   \n1         2019-01-01 00:00:44  107.23          Orient    WA 1978-06-21   \n2         2019-01-01 00:00:51  220.11      Malad City    ID 1962-01-19   \n3         2019-01-01 00:01:16   45.00         Boulder    MT 1967-01-12   \n4         2019-01-01 00:03:06   41.96        Doe Hill    VA 1986-03-28   \n...                       ...     ...             ...   ...        ...   \n1852389   2020-12-31 23:59:07   43.77           Luray    MO 1966-02-13   \n1852390   2020-12-31 23:59:09  111.84    Lake Jackson    TX 1999-12-27   \n1852391   2020-12-31 23:59:15   86.88         Burbank    WA 1981-11-29   \n1852392   2020-12-31 23:59:24    7.99            Mesa    ID 1965-12-15   \n1852393   2020-12-31 23:59:34   38.13          Edmond    OK 1993-05-10   \n\n                                trans_num        category  is_fraud  \\\n0        0b242abb623afc578575680df30655b9        misc_net         0   \n1        1f76529f8574734946361c461b024d99     grocery_pos         0   \n2        a1a22d70485983eac12b5b88dad1cf95   entertainment         0   \n3        6b849c168bdad6f867558c3793159a81   gas_transport         0   \n4        a41d7549acf90789359a9aa5346dcb46        misc_pos         0   \n...                                   ...             ...       ...   \n1852389  9b1f753c79894c9f4b71f04581835ada  health_fitness         0   \n1852390  2090647dac2c89a1d86c514c427f5b91       kids_pets         0   \n1852391  6c5b7c8add471975aa0fec023b2e8408       kids_pets         0   \n1852392  14392d723bb7737606b2700ac791b7aa          travel         0   \n1852393  1765bb45b3aa3224b4cdcb6e7a96cee3   entertainment         0   \n\n          unix_time trans_date  age_at_transaction  amt_scaled  \n0        1325376018 2019-01-01                  31    1.37e-04  \n1        1325376044 2019-01-01                  41    3.67e-03  \n2        1325376051 2019-01-01                  57    7.57e-03  \n3        1325376076 2019-01-01                  52    1.52e-03  \n4        1325376186 2019-01-01                  33    1.41e-03  \n...             ...        ...                 ...         ...  \n1852389  1388534347 2020-12-31                  54    1.48e-03  \n1852390  1388534349 2020-12-31                  21    3.83e-03  \n1852391  1388534355 2020-12-31                  39    2.97e-03  \n1852392  1388534364 2020-12-31                  55    2.41e-04  \n1852393  1388534374 2020-12-31                  27    1.28e-03  \n\n[1852394 rows x 12 columns]",
      "text/html": "<div>\n<style scoped>\n    .dataframe tbody tr th:only-of-type {\n        vertical-align: middle;\n    }\n\n    .dataframe tbody tr th {\n        vertical-align: top;\n    }\n\n    .dataframe thead th {\n        text-align: right;\n    }\n</style>\n<table border=\"1\" class=\"dataframe\">\n  <thead>\n    <tr style=\"text-align: right;\">\n      <th></th>\n      <th>trans_date_trans_time</th>\n      <th>amt</th>\n      <th>city</th>\n      <th>state</th>\n      <th>dob</th>\n      <th>trans_num</th>\n      <th>category</th>\n      <th>is_fraud</th>\n      <th>unix_time</th>\n      <th>trans_date</th>\n      <th>age_at_transaction</th>\n      <th>amt_scaled</th>\n    </tr>\n  </thead>\n  <tbody>\n    <tr>\n      <th>0</th>\n      <td>2019-01-01 00:00:18</td>\n      <td>4.97</td>\n      <td>Moravian Falls</td>\n      <td>NC</td>\n      <td>1988-03-09</td>\n      <td>0b242abb623afc578575680df30655b9</td>\n      <td>misc_net</td>\n      <td>0</td>\n      <td>1325376018</td>\n      <td>2019-01-01</td>\n      <td>31</td>\n      <td>1.37e-04</td>\n    </tr>\n    <tr>\n      <th>1</th>\n      <td>2019-01-01 00:00:44</td>\n      <td>107.23</td>\n      <td>Orient</td>\n      <td>WA</td>\n      <td>1978-06-21</td>\n      <td>1f76529f8574734946361c461b024d99</td>\n      <td>grocery_pos</td>\n      <td>0</td>\n      <td>1325376044</td>\n      <td>2019-01-01</td>\n      <td>41</td>\n      <td>3.67e-03</td>\n    </tr>\n    <tr>\n      <th>2</th>\n      <td>2019-01-01 00:00:51</td>\n      <td>220.11</td>\n      <td>Malad City</td>\n      <td>ID</td>\n      <td>1962-01-19</td>\n      <td>a1a22d70485983eac12b5b88dad1cf95</td>\n      <td>entertainment</td>\n      <td>0</td>\n      <td>1325376051</td>\n      <td>2019-01-01</td>\n      <td>57</td>\n      <td>7.57e-03</td>\n    </tr>\n    <tr>\n      <th>3</th>\n      <td>2019-01-01 00:01:16</td>\n      <td>45.00</td>\n      <td>Boulder</td>\n      <td>MT</td>\n      <td>1967-01-12</td>\n      <td>6b849c168bdad6f867558c3793159a81</td>\n      <td>gas_transport</td>\n      <td>0</td>\n      <td>1325376076</td>\n      <td>2019-01-01</td>\n      <td>52</td>\n      <td>1.52e-03</td>\n    </tr>\n    <tr>\n      <th>4</th>\n      <td>2019-01-01 00:03:06</td>\n      <td>41.96</td>\n      <td>Doe Hill</td>\n      <td>VA</td>\n      <td>1986-03-28</td>\n      <td>a41d7549acf90789359a9aa5346dcb46</td>\n      <td>misc_pos</td>\n      <td>0</td>\n      <td>1325376186</td>\n      <td>2019-01-01</td>\n      <td>33</td>\n      <td>1.41e-03</td>\n    </tr>\n    <tr>\n      <th>...</th>\n      <td>...</td>\n      <td>...</td>\n      <td>...</td>\n      <td>...</td>\n      <td>...</td>\n      <td>...</td>\n      <td>...</td>\n      <td>...</td>\n      <td>...</td>\n      <td>...</td>\n      <td>...</td>\n      <td>...</td>\n    </tr>\n    <tr>\n      <th>1852389</th>\n      <td>2020-12-31 23:59:07</td>\n      <td>43.77</td>\n      <td>Luray</td>\n      <td>MO</td>\n      <td>1966-02-13</td>\n      <td>9b1f753c79894c9f4b71f04581835ada</td>\n      <td>health_fitness</td>\n      <td>0</td>\n      <td>1388534347</td>\n      <td>2020-12-31</td>\n      <td>54</td>\n      <td>1.48e-03</td>\n    </tr>\n    <tr>\n      <th>1852390</th>\n      <td>2020-12-31 23:59:09</td>\n      <td>111.84</td>\n      <td>Lake Jackson</td>\n      <td>TX</td>\n      <td>1999-12-27</td>\n      <td>2090647dac2c89a1d86c514c427f5b91</td>\n      <td>kids_pets</td>\n      <td>0</td>\n      <td>1388534349</td>\n      <td>2020-12-31</td>\n      <td>21</td>\n      <td>3.83e-03</td>\n    </tr>\n    <tr>\n      <th>1852391</th>\n      <td>2020-12-31 23:59:15</td>\n      <td>86.88</td>\n      <td>Burbank</td>\n      <td>WA</td>\n      <td>1981-11-29</td>\n      <td>6c5b7c8add471975aa0fec023b2e8408</td>\n      <td>kids_pets</td>\n      <td>0</td>\n      <td>1388534355</td>\n      <td>2020-12-31</td>\n      <td>39</td>\n      <td>2.97e-03</td>\n    </tr>\n    <tr>\n      <th>1852392</th>\n      <td>2020-12-31 23:59:24</td>\n      <td>7.99</td>\n      <td>Mesa</td>\n      <td>ID</td>\n      <td>1965-12-15</td>\n      <td>14392d723bb7737606b2700ac791b7aa</td>\n      <td>travel</td>\n      <td>0</td>\n      <td>1388534364</td>\n      <td>2020-12-31</td>\n      <td>55</td>\n      <td>2.41e-04</td>\n    </tr>\n    <tr>\n      <th>1852393</th>\n      <td>2020-12-31 23:59:34</td>\n      <td>38.13</td>\n      <td>Edmond</td>\n      <td>OK</td>\n      <td>1993-05-10</td>\n      <td>1765bb45b3aa3224b4cdcb6e7a96cee3</td>\n      <td>entertainment</td>\n      <td>0</td>\n      <td>1388534374</td>\n      <td>2020-12-31</td>\n      <td>27</td>\n      <td>1.28e-03</td>\n    </tr>\n  </tbody>\n</table>\n<p>1852394 rows × 12 columns</p>\n</div>"
     },
     "execution_count": 6,
     "metadata": {},
     "output_type": "execute_result"
    }
   ],
   "source": [
    "# Standardize amount\n",
    "min_max_scaler = MinMaxScaler()\n",
    "data['amt_scaled'] = min_max_scaler.fit_transform(data['amt'].values.reshape(-1, 1))\n",
    "\n",
    "data"
   ],
   "metadata": {
    "collapsed": false,
    "ExecuteTime": {
     "end_time": "2024-02-20T18:42:24.250707100Z",
     "start_time": "2024-02-20T18:42:24.193707400Z"
    }
   },
   "id": "84a36e9edef5c377"
  },
  {
   "cell_type": "markdown",
   "source": [
    "# City, State\n"
   ],
   "metadata": {
    "collapsed": false
   },
   "id": "274db762397a2b64"
  },
  {
   "cell_type": "code",
   "execution_count": 7,
   "outputs": [],
   "source": [
    "label_encoder = LabelEncoder()\n",
    "\n",
    "data['city_state'] = data['city'] + ', ' + data['state']\n",
    "data['city_state'] = label_encoder.fit_transform(data['city_state'])\n",
    "\n",
    "data['state'] = label_encoder.fit_transform(data['state'])\n",
    "\n",
    "data['category'] = label_encoder.fit_transform(data['category'])"
   ],
   "metadata": {
    "collapsed": false,
    "ExecuteTime": {
     "end_time": "2024-02-20T18:42:27.612959700Z",
     "start_time": "2024-02-20T18:42:26.888328900Z"
    }
   },
   "id": "a707d94b71c5e789"
  },
  {
   "cell_type": "code",
   "execution_count": 7,
   "outputs": [],
   "source": [],
   "metadata": {
    "collapsed": false,
    "ExecuteTime": {
     "end_time": "2024-02-20T18:42:27.628959200Z",
     "start_time": "2024-02-20T18:42:27.613958900Z"
    }
   },
   "id": "9eecf10abfc05263"
  },
  {
   "cell_type": "code",
   "execution_count": 8,
   "outputs": [],
   "source": [
    "#data['merchant'] = label_encoder.fit_transform(data['merchant'])\n",
    "#data['unix_time'] = min_max_scaler.fit_transform(data['unix_time'].values.reshape(-1, 1))"
   ],
   "metadata": {
    "collapsed": false,
    "ExecuteTime": {
     "end_time": "2024-02-20T18:42:28.611785200Z",
     "start_time": "2024-02-20T18:42:28.598785600Z"
    }
   },
   "id": "e9e4a802f74bac8d"
  },
  {
   "cell_type": "code",
   "execution_count": 9,
   "outputs": [],
   "source": [
    "X = data[['age_at_transaction', 'amt_scaled', 'city_state', 'category', 'unix_time']]\n",
    "y = data[['is_fraud']]"
   ],
   "metadata": {
    "collapsed": false,
    "ExecuteTime": {
     "end_time": "2024-02-20T18:42:30.944995100Z",
     "start_time": "2024-02-20T18:42:30.919996400Z"
    }
   },
   "id": "6019b7f4787f7a35"
  },
  {
   "cell_type": "code",
   "execution_count": 10,
   "outputs": [],
   "source": [
    "# Split the data into training and test sets\n",
    "X_train, X_test, y_train, y_test = train_test_split(X, y, test_size=0.2, random_state=42)\n"
   ],
   "metadata": {
    "collapsed": false,
    "ExecuteTime": {
     "end_time": "2024-02-20T18:42:39.891954Z",
     "start_time": "2024-02-20T18:42:39.719393300Z"
    }
   },
   "id": "7940d99e39af8237"
  },
  {
   "cell_type": "code",
   "execution_count": 10,
   "outputs": [
    {
     "name": "stdout",
     "output_type": "stream",
     "text": [
      "Accuracy: 0.9555521365583475\n",
      "              precision    recall  f1-score   support\n",
      "\n",
      "           0       1.00      0.96      0.98    368526\n",
      "           1       0.08      0.76      0.15      1953\n",
      "\n",
      "    accuracy                           0.96    370479\n",
      "   macro avg       0.54      0.86      0.56    370479\n",
      "weighted avg       0.99      0.96      0.97    370479\n"
     ]
    }
   ],
   "source": [
    "# Create a logistic regression pipeline\n",
    "X_train, X_test, y_train, y_test = train_test_split(X, y, test_size=0.2, random_state=42)\n",
    "\n",
    "# Initialize the Logistic Regression model\n",
    "logistic_model = LogisticRegression(max_iter=1000, class_weight='balanced')\n",
    "\n",
    "# Train the logistic regression model\n",
    "logistic_model.fit(X_train, y_train)\n",
    "\n",
    "# Predict on the test set\n",
    "y_pred = logistic_model.predict(X_test)\n",
    "\n",
    "# Evaluate the model\n",
    "print(\"Accuracy:\", accuracy_score(y_test, y_pred))\n",
    "print(classification_report(y_test, y_pred))"
   ],
   "metadata": {
    "collapsed": false,
    "ExecuteTime": {
     "end_time": "2024-02-19T21:24:13.915661300Z",
     "start_time": "2024-02-19T21:24:10.480763800Z"
    }
   },
   "id": "2eca41523d8eb53f"
  },
  {
   "cell_type": "code",
   "execution_count": 16,
   "outputs": [
    {
     "name": "stdout",
     "output_type": "stream",
     "text": [
      "Accuracy: 0.9969930819290702\n",
      "              precision    recall  f1-score   support\n",
      "\n",
      "           0       1.00      1.00      1.00    368526\n",
      "           1       0.83      0.54      0.66      1953\n",
      "\n",
      "    accuracy                           1.00    370479\n",
      "   macro avg       0.91      0.77      0.83    370479\n",
      "weighted avg       1.00      1.00      1.00    370479\n"
     ]
    }
   ],
   "source": [
    "from xgboost import XGBClassifier\n",
    "scale_pos_weight = len(y[y == 0]) / len(y[y == 1])\n",
    "\n",
    "xgb_model = XGBClassifier(use_label_encoder=False, eval_metric='logloss', scale_pos_weight=scale_pos_weight, max_depth=6, learning_rate=0.1, n_estimators=100)\n",
    "\n",
    "# Train the XGBoost model\n",
    "xgb_model.fit(X_train, y_train)\n",
    "\n",
    "# Predict on the test set\n",
    "y_pred = xgb_model.predict(X_test)\n",
    "\n",
    "# Evaluate the model\n",
    "print(\"Accuracy:\", accuracy_score(y_test, y_pred))\n",
    "print(classification_report(y_test, y_pred))"
   ],
   "metadata": {
    "collapsed": false,
    "ExecuteTime": {
     "end_time": "2024-02-20T18:50:01.460188800Z",
     "start_time": "2024-02-20T18:49:59.320239600Z"
    }
   },
   "id": "9d9fc789bc42d0f9"
  },
  {
   "cell_type": "code",
   "execution_count": 14,
   "outputs": [
    {
     "name": "stdout",
     "output_type": "stream",
     "text": [
      "Accuracy: 0.9973763695108224\n",
      "              precision    recall  f1-score   support\n",
      "\n",
      "           0       1.00      1.00      1.00    368526\n",
      "           1       0.82      0.64      0.72      1953\n",
      "\n",
      "    accuracy                           1.00    370479\n",
      "   macro avg       0.91      0.82      0.86    370479\n",
      "weighted avg       1.00      1.00      1.00    370479\n"
     ]
    }
   ],
   "source": [
    "from sklearn.ensemble import RandomForestClassifier\n",
    "rf_model = RandomForestClassifier(n_estimators=100, class_weight='balanced', random_state=42)\n",
    "\n",
    "# Train the Random Forest model\n",
    "rf_model.fit(X_train, y_train)\n",
    "\n",
    "# Predict on the test set\n",
    "y_pred = rf_model.predict(X_test)\n",
    "\n",
    "# Evaluate the model\n",
    "print(\"Accuracy:\", accuracy_score(y_test, y_pred))\n",
    "print(classification_report(y_test, y_pred))"
   ],
   "metadata": {
    "collapsed": false,
    "ExecuteTime": {
     "end_time": "2024-02-19T21:32:15.226878500Z",
     "start_time": "2024-02-19T21:30:34.641946Z"
    }
   },
   "id": "d3c3b5d6b9aa3a5a"
  },
  {
   "cell_type": "code",
   "execution_count": 15,
   "outputs": [
    {
     "name": "stdout",
     "output_type": "stream",
     "text": [
      "CV Scores: [0.99724681 0.99741956 0.99725221 0.99732779 0.99712264 0.99717662\n",
      " 0.99739796 0.99734397 0.99726839 0.99732238]\n",
      "CV Mean Accuracy: 0.9972878339624037\n"
     ]
    }
   ],
   "source": [
    "from sklearn.model_selection import cross_val_score, KFold\n",
    "\n",
    "# Initialize the Random Forest Classifier\n",
    "random_forest_model = RandomForestClassifier(n_estimators=100, random_state=42)\n",
    "\n",
    "# Set up K-Fold Cross-Validation\n",
    "kfold = KFold(n_splits=10, shuffle=True, random_state=42)\n",
    "\n",
    "# Perform K-Fold CV and evaluate the model\n",
    "cv_scores = cross_val_score(random_forest_model, X, y, cv=kfold, scoring='accuracy')\n",
    "\n",
    "print(f\"CV Scores: {cv_scores}\")\n",
    "print(f\"CV Mean Accuracy: {np.mean(cv_scores)}\")"
   ],
   "metadata": {
    "collapsed": false,
    "ExecuteTime": {
     "end_time": "2024-02-19T21:55:38.419664800Z",
     "start_time": "2024-02-19T21:32:44.082756Z"
    }
   },
   "id": "9261c5afc8a45e84"
  },
  {
   "cell_type": "code",
   "execution_count": 17,
   "outputs": [
    {
     "ename": "NameError",
     "evalue": "name 'cross_validate' is not defined",
     "output_type": "error",
     "traceback": [
      "\u001B[1;31m---------------------------------------------------------------------------\u001B[0m",
      "\u001B[1;31mNameError\u001B[0m                                 Traceback (most recent call last)",
      "Cell \u001B[1;32mIn[17], line 2\u001B[0m\n\u001B[0;32m      1\u001B[0m \u001B[38;5;66;03m# Perform cross-validation\u001B[39;00m\n\u001B[1;32m----> 2\u001B[0m cv_results \u001B[38;5;241m=\u001B[39m \u001B[43mcross_validate\u001B[49m(classifier, X, y, cv\u001B[38;5;241m=\u001B[39m\u001B[38;5;241m5\u001B[39m, scoring\u001B[38;5;241m=\u001B[39mscoring)\n\u001B[0;32m      3\u001B[0m \u001B[38;5;66;03m# Accessing the results\u001B[39;00m\n\u001B[0;32m      4\u001B[0m precision_scores \u001B[38;5;241m=\u001B[39m cv_results[\u001B[38;5;124m'\u001B[39m\u001B[38;5;124mtest_prec_macro\u001B[39m\u001B[38;5;124m'\u001B[39m]\n",
      "\u001B[1;31mNameError\u001B[0m: name 'cross_validate' is not defined"
     ]
    }
   ],
   "source": [
    "# Perform cross-validation\n",
    "cv_results = cross_validate(classifier, X, y, cv=5, scoring=scoring)\n",
    "# Accessing the results\n",
    "precision_scores = cv_results['test_prec_macro']\n",
    "recall_scores = cv_results['test_rec_macro']\n",
    "\n",
    "print(\"Precision Scores:\", precision_scores)\n",
    "print(\"Recall Scores:\", recall_scores)\n",
    "print(\"Average Precision:\", precision_scores.mean())\n",
    "print(\"Average Recall:\", recall_scores.mean())"
   ],
   "metadata": {
    "collapsed": false,
    "ExecuteTime": {
     "end_time": "2024-02-19T21:59:02.700712Z",
     "start_time": "2024-02-19T21:59:02.682368400Z"
    }
   },
   "id": "b766756fbeab56fd"
  },
  {
   "cell_type": "code",
   "execution_count": 20,
   "outputs": [],
   "source": [],
   "metadata": {
    "collapsed": false,
    "ExecuteTime": {
     "end_time": "2024-02-20T18:57:12.444520500Z",
     "start_time": "2024-02-20T18:57:12.430522200Z"
    }
   },
   "id": "88c715c94ce6ea64"
  },
  {
   "cell_type": "code",
   "execution_count": 21,
   "outputs": [
    {
     "name": "stdout",
     "output_type": "stream",
     "text": [
      "Collecting imbalanced-learn"
     ]
    },
    {
     "name": "stderr",
     "output_type": "stream",
     "text": [
      "\n",
      "[notice] A new release of pip is available: 23.2.1 -> 24.0\n",
      "[notice] To update, run: python.exe -m pip install --upgrade pip\n"
     ]
    },
    {
     "name": "stdout",
     "output_type": "stream",
     "text": [
      "\n",
      "  Obtaining dependency information for imbalanced-learn from https://files.pythonhosted.org/packages/92/e8/86c36e1b13007ca9c89381adac6c078cfc8fb71841a76c08a3fe3eca91d3/imbalanced_learn-0.12.0-py3-none-any.whl.metadata\n",
      "  Downloading imbalanced_learn-0.12.0-py3-none-any.whl.metadata (8.2 kB)\n",
      "Requirement already satisfied: numpy>=1.17.3 in c:\\users\\carin\\pycharmprojects\\fraud_detection\\venv\\lib\\site-packages (from imbalanced-learn) (1.26.4)\n",
      "Requirement already satisfied: scipy>=1.5.0 in c:\\users\\carin\\pycharmprojects\\fraud_detection\\venv\\lib\\site-packages (from imbalanced-learn) (1.12.0)\n",
      "Requirement already satisfied: scikit-learn>=1.0.2 in c:\\users\\carin\\pycharmprojects\\fraud_detection\\venv\\lib\\site-packages (from imbalanced-learn) (1.4.1.post1)\n",
      "Requirement already satisfied: joblib>=1.1.1 in c:\\users\\carin\\pycharmprojects\\fraud_detection\\venv\\lib\\site-packages (from imbalanced-learn) (1.3.2)\n",
      "Requirement already satisfied: threadpoolctl>=2.0.0 in c:\\users\\carin\\pycharmprojects\\fraud_detection\\venv\\lib\\site-packages (from imbalanced-learn) (3.3.0)\n",
      "Downloading imbalanced_learn-0.12.0-py3-none-any.whl (257 kB)\n",
      "   ---------------------------------------- 0.0/257.7 kB ? eta -:--:--\n",
      "   --------------------------------------- 257.7/257.7 kB 15.5 MB/s eta 0:00:00\n",
      "Installing collected packages: imbalanced-learn\n",
      "Successfully installed imbalanced-learn-0.12.0\n"
     ]
    }
   ],
   "source": [
    "!pip install imbalanced-learn\n"
   ],
   "metadata": {
    "collapsed": false,
    "ExecuteTime": {
     "end_time": "2024-02-19T22:26:40.697388700Z",
     "start_time": "2024-02-19T22:26:38.710282500Z"
    }
   },
   "id": "86c118ea3748c428"
  },
  {
   "cell_type": "code",
   "execution_count": 22,
   "outputs": [],
   "source": [
    "from imblearn.over_sampling import SMOTE\n",
    "from sklearn.model_selection import train_test_split\n",
    "from sklearn.ensemble import RandomForestClassifier\n",
    "from sklearn.metrics import classification_report, accuracy_score\n",
    "from sklearn.preprocessing import StandardScaler\n",
    "\n",
    "# Assuming X and y are defined\n",
    "# Split your data into training and test sets\n",
    "X_train, X_test, y_train, y_test = train_test_split(X, y, test_size=0.2, random_state=42)\n",
    "\n",
    "# It's often a good practice to scale your data with models sensitive to magnitude\n",
    "scaler = StandardScaler()\n",
    "X_train_scaled = scaler.fit_transform(X_train)\n",
    "X_test_scaled = scaler.transform(X_test)\n",
    "\n",
    "# Apply SMOTE to the training data (not the test data)\n",
    "smote = SMOTE(random_state=42)\n",
    "X_train_smote, y_train_smote = smote.fit_resample(X_train_scaled, y_train)\n",
    "\n",
    "\n"
   ],
   "metadata": {
    "collapsed": false,
    "ExecuteTime": {
     "end_time": "2024-02-20T18:58:29.853324100Z",
     "start_time": "2024-02-20T18:58:29.209926Z"
    }
   },
   "id": "ccb1b6247f8fbe6a"
  },
  {
   "cell_type": "code",
   "execution_count": null,
   "outputs": [],
   "source": [
    "\n",
    "# Now you can use the resampled data to train your model\n",
    "model = RandomForestClassifier(random_state=42)\n",
    "model.fit(X_train_smote, y_train_smote)\n",
    "\n",
    "# Predict on the test set\n",
    "y_pred = model.predict(X_test_scaled)\n",
    "\n",
    "# Evaluate the model\n",
    "print(\"Accuracy:\", accuracy_score(y_test, y_pred))\n",
    "print(classification_report(y_test, y_pred))"
   ],
   "metadata": {
    "collapsed": false
   },
   "id": "cd0966aa96b698d5"
  },
  {
   "cell_type": "code",
   "execution_count": 24,
   "outputs": [
    {
     "name": "stdout",
     "output_type": "stream",
     "text": [
      "              precision    recall  f1-score   support\n",
      "\n",
      "           0       1.00      1.00      1.00    368526\n",
      "           1       0.70      0.66      0.68      1953\n",
      "\n",
      "    accuracy                           1.00    370479\n",
      "   macro avg       0.85      0.83      0.84    370479\n",
      "weighted avg       1.00      1.00      1.00    370479\n"
     ]
    }
   ],
   "source": [
    "from sklearn.neighbors import KNeighborsClassifier\n",
    "\n",
    "\n",
    "# Assuming X and y are defined and preprocessed\n",
    "\n",
    "# Split the data into training and testing sets\n",
    "X_train, X_test, y_train, y_test = train_test_split(X, y, test_size=0.2, random_state=42)\n",
    "\n",
    "# Scale the features\n",
    "scaler = StandardScaler()\n",
    "X_train_scaled = scaler.fit_transform(X_train)\n",
    "X_test_scaled = scaler.transform(X_test)\n",
    "\n",
    "# Choose the number of neighbors\n",
    "k = 3\n",
    "\n",
    "# Train the KNN classifier\n",
    "knn = KNeighborsClassifier(n_neighbors=k, weights='distance')\n",
    "knn.fit(X_train_scaled, y_train)\n",
    "\n",
    "# Make predictions on the test set\n",
    "y_pred = knn.predict(X_test_scaled)\n",
    "\n",
    "# Evaluate the model\n",
    "accuracy = accuracy_score(y_test, y_pred)\n",
    "precision = precision_score(y_test, y_pred, average='binary')  # Use 'binary' for binary classification\n",
    "recall = recall_score(y_test, y_pred, average='binary')  # Use 'binary' for binary classification\n",
    "\n",
    "print(classification_report(y_test, y_pred))\n",
    "\n"
   ],
   "metadata": {
    "collapsed": false,
    "ExecuteTime": {
     "end_time": "2024-02-20T19:00:37.981975500Z",
     "start_time": "2024-02-20T19:00:29.973340900Z"
    }
   },
   "id": "2516178c64b69d42"
  },
  {
   "cell_type": "code",
   "execution_count": null,
   "outputs": [],
   "source": [
    "from sklearn.svm import SVC\n",
    "# Split the data into training and testing sets\n",
    "X_train, X_test, y_train, y_test = train_test_split(X, y, test_size=0.2, random_state=42)\n",
    "\n",
    "# Scale the features\n",
    "scaler = StandardScaler()\n",
    "X_train_scaled = scaler.fit_transform(X_train)\n",
    "X_test_scaled = scaler.transform(X_test)\n",
    "\n",
    "# Train the SVM classifier with class weight balanced\n",
    "svm = SVC(kernel='rbf', class_weight='balanced', probability=False)\n",
    "svm.fit(X_train_scaled, y_train)\n",
    "\n",
    "# Make predictions on the test set\n",
    "y_pred = svm.predict(X_test_scaled)\n",
    "\n",
    "# Evaluate the model\n",
    "accuracy = accuracy_score(y_test, y_pred)\n",
    "precision = precision_score(y_test, y_pred)  # Defaults to binary if not specified\n",
    "recall = recall_score(y_test, y_pred)  # Defaults to binary if not specified\n",
    "\n",
    "print(classification_report(y_test, y_pred))\n"
   ],
   "metadata": {
    "collapsed": false,
    "is_executing": true
   },
   "id": "87da015f50729aac"
  },
  {
   "cell_type": "code",
   "execution_count": null,
   "outputs": [],
   "source": [
    "!pip install scikit-learn-intelex"
   ],
   "metadata": {
    "collapsed": false,
    "is_executing": true
   },
   "id": "a9054c7e3a3af650"
  },
  {
   "cell_type": "code",
   "execution_count": null,
   "outputs": [],
   "source": [],
   "metadata": {
    "collapsed": false
   },
   "id": "aef60d1ea35d3fdf"
  }
 ],
 "metadata": {
  "kernelspec": {
   "display_name": "Python 3",
   "language": "python",
   "name": "python3"
  },
  "language_info": {
   "codemirror_mode": {
    "name": "ipython",
    "version": 2
   },
   "file_extension": ".py",
   "mimetype": "text/x-python",
   "name": "python",
   "nbconvert_exporter": "python",
   "pygments_lexer": "ipython2",
   "version": "2.7.6"
  }
 },
 "nbformat": 4,
 "nbformat_minor": 5
}
